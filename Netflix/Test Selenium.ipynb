{
 "cells": [
  {
   "cell_type": "markdown",
   "metadata": {},
   "source": [
    "### Install Selenium\n",
    "\n",
    "Execute the following command to install selenium in Jupyter Notebook or Anaconda Prompt:\n",
    "> !pip install selenium"
   ]
  },
  {
   "cell_type": "markdown",
   "metadata": {},
   "source": [
    "### Download WebDriver\n",
    "Download the zipped file of WebDriver here: https://www.selenium.dev/documentation/webdriver/getting_started/install_drivers/\n",
    "\n",
    "Choose the one based on the browser that you are using.\n",
    "\n",
    "Extract the downloaded file and copy the .exe file to the same directory as your Jupyter notebook file.\n",
    "\n",
    "After you have paste your .exe file to the same directory, test whether it works using the code below. Change code according to browser webdriver you are using. "
   ]
  },
  {
   "cell_type": "code",
   "execution_count": 4,
   "metadata": {},
   "outputs": [
    {
     "ename": "WebDriverException",
     "evalue": "Message: disconnected: not connected to DevTools\n  (failed to check if window was closed: disconnected: not connected to DevTools)\n  (Session info: chrome=113.0.5672.92)\nStacktrace:\nBacktrace:\n\tGetHandleVerifier [0x008E8893+48451]\n\t(No symbol) [0x0087B8A1]\n\t(No symbol) [0x00785058]\n\t(No symbol) [0x00776F0B]\n\t(No symbol) [0x007775CA]\n\t(No symbol) [0x00777568]\n\t(No symbol) [0x0076C0BA]\n\t(No symbol) [0x0076C917]\n\t(No symbol) [0x007D22F8]\n\t(No symbol) [0x007CA283]\n\t(No symbol) [0x007A7E08]\n\t(No symbol) [0x007A8F2D]\n\tGetHandleVerifier [0x00B48E3A+2540266]\n\tGetHandleVerifier [0x00B88959+2801161]\n\tGetHandleVerifier [0x00B8295C+2776588]\n\tGetHandleVerifier [0x00972280+612144]\n\t(No symbol) [0x00884F6C]\n\t(No symbol) [0x008811D8]\n\t(No symbol) [0x008812BB]\n\t(No symbol) [0x00874857]\n\tBaseThreadInitThunk [0x75F37D49+25]\n\tRtlInitializeExceptionChain [0x7781B74B+107]\n\tRtlClearBits [0x7781B6CF+191]\n",
     "output_type": "error",
     "traceback": [
      "\u001b[1;31m---------------------------------------------------------------------------\u001b[0m",
      "\u001b[1;31mWebDriverException\u001b[0m                        Traceback (most recent call last)",
      "Cell \u001b[1;32mIn [4], line 10\u001b[0m\n\u001b[0;32m      8\u001b[0m browser\u001b[38;5;241m.\u001b[39mget(\u001b[38;5;124m'\u001b[39m\u001b[38;5;124mhttps://www.nyp.edu.sg/\u001b[39m\u001b[38;5;124m'\u001b[39m)\n\u001b[0;32m      9\u001b[0m sleep(\u001b[38;5;241m5\u001b[39m)\n\u001b[1;32m---> 10\u001b[0m \u001b[43mbrowser\u001b[49m\u001b[38;5;241;43m.\u001b[39;49m\u001b[43mclose\u001b[49m\u001b[43m(\u001b[49m\u001b[43m)\u001b[49m\n",
      "File \u001b[1;32m~\\anaconda3\\lib\\site-packages\\selenium\\webdriver\\remote\\webdriver.py:551\u001b[0m, in \u001b[0;36mWebDriver.close\u001b[1;34m(self)\u001b[0m\n\u001b[0;32m    543\u001b[0m \u001b[38;5;28;01mdef\u001b[39;00m \u001b[38;5;21mclose\u001b[39m(\u001b[38;5;28mself\u001b[39m) \u001b[38;5;241m-\u001b[39m\u001b[38;5;241m>\u001b[39m \u001b[38;5;28;01mNone\u001b[39;00m:\n\u001b[0;32m    544\u001b[0m     \u001b[38;5;124;03m\"\"\"Closes the current window.\u001b[39;00m\n\u001b[0;32m    545\u001b[0m \n\u001b[0;32m    546\u001b[0m \u001b[38;5;124;03m    :Usage:\u001b[39;00m\n\u001b[1;32m   (...)\u001b[0m\n\u001b[0;32m    549\u001b[0m \u001b[38;5;124;03m            driver.close()\u001b[39;00m\n\u001b[0;32m    550\u001b[0m \u001b[38;5;124;03m    \"\"\"\u001b[39;00m\n\u001b[1;32m--> 551\u001b[0m     \u001b[38;5;28;43mself\u001b[39;49m\u001b[38;5;241;43m.\u001b[39;49m\u001b[43mexecute\u001b[49m\u001b[43m(\u001b[49m\u001b[43mCommand\u001b[49m\u001b[38;5;241;43m.\u001b[39;49m\u001b[43mCLOSE\u001b[49m\u001b[43m)\u001b[49m\n",
      "File \u001b[1;32m~\\anaconda3\\lib\\site-packages\\selenium\\webdriver\\remote\\webdriver.py:440\u001b[0m, in \u001b[0;36mWebDriver.execute\u001b[1;34m(self, driver_command, params)\u001b[0m\n\u001b[0;32m    438\u001b[0m response \u001b[38;5;241m=\u001b[39m \u001b[38;5;28mself\u001b[39m\u001b[38;5;241m.\u001b[39mcommand_executor\u001b[38;5;241m.\u001b[39mexecute(driver_command, params)\n\u001b[0;32m    439\u001b[0m \u001b[38;5;28;01mif\u001b[39;00m response:\n\u001b[1;32m--> 440\u001b[0m     \u001b[38;5;28;43mself\u001b[39;49m\u001b[38;5;241;43m.\u001b[39;49m\u001b[43merror_handler\u001b[49m\u001b[38;5;241;43m.\u001b[39;49m\u001b[43mcheck_response\u001b[49m\u001b[43m(\u001b[49m\u001b[43mresponse\u001b[49m\u001b[43m)\u001b[49m\n\u001b[0;32m    441\u001b[0m     response[\u001b[38;5;124m\"\u001b[39m\u001b[38;5;124mvalue\u001b[39m\u001b[38;5;124m\"\u001b[39m] \u001b[38;5;241m=\u001b[39m \u001b[38;5;28mself\u001b[39m\u001b[38;5;241m.\u001b[39m_unwrap_value(response\u001b[38;5;241m.\u001b[39mget(\u001b[38;5;124m\"\u001b[39m\u001b[38;5;124mvalue\u001b[39m\u001b[38;5;124m\"\u001b[39m, \u001b[38;5;28;01mNone\u001b[39;00m))\n\u001b[0;32m    442\u001b[0m     \u001b[38;5;28;01mreturn\u001b[39;00m response\n",
      "File \u001b[1;32m~\\anaconda3\\lib\\site-packages\\selenium\\webdriver\\remote\\errorhandler.py:245\u001b[0m, in \u001b[0;36mErrorHandler.check_response\u001b[1;34m(self, response)\u001b[0m\n\u001b[0;32m    243\u001b[0m         alert_text \u001b[38;5;241m=\u001b[39m value[\u001b[38;5;124m\"\u001b[39m\u001b[38;5;124malert\u001b[39m\u001b[38;5;124m\"\u001b[39m]\u001b[38;5;241m.\u001b[39mget(\u001b[38;5;124m\"\u001b[39m\u001b[38;5;124mtext\u001b[39m\u001b[38;5;124m\"\u001b[39m)\n\u001b[0;32m    244\u001b[0m     \u001b[38;5;28;01mraise\u001b[39;00m exception_class(message, screen, stacktrace, alert_text)  \u001b[38;5;66;03m# type: ignore[call-arg]  # mypy is not smart enough here\u001b[39;00m\n\u001b[1;32m--> 245\u001b[0m \u001b[38;5;28;01mraise\u001b[39;00m exception_class(message, screen, stacktrace)\n",
      "\u001b[1;31mWebDriverException\u001b[0m: Message: disconnected: not connected to DevTools\n  (failed to check if window was closed: disconnected: not connected to DevTools)\n  (Session info: chrome=113.0.5672.92)\nStacktrace:\nBacktrace:\n\tGetHandleVerifier [0x008E8893+48451]\n\t(No symbol) [0x0087B8A1]\n\t(No symbol) [0x00785058]\n\t(No symbol) [0x00776F0B]\n\t(No symbol) [0x007775CA]\n\t(No symbol) [0x00777568]\n\t(No symbol) [0x0076C0BA]\n\t(No symbol) [0x0076C917]\n\t(No symbol) [0x007D22F8]\n\t(No symbol) [0x007CA283]\n\t(No symbol) [0x007A7E08]\n\t(No symbol) [0x007A8F2D]\n\tGetHandleVerifier [0x00B48E3A+2540266]\n\tGetHandleVerifier [0x00B88959+2801161]\n\tGetHandleVerifier [0x00B8295C+2776588]\n\tGetHandleVerifier [0x00972280+612144]\n\t(No symbol) [0x00884F6C]\n\t(No symbol) [0x008811D8]\n\t(No symbol) [0x008812BB]\n\t(No symbol) [0x00874857]\n\tBaseThreadInitThunk [0x75F37D49+25]\n\tRtlInitializeExceptionChain [0x7781B74B+107]\n\tRtlClearBits [0x7781B6CF+191]\n"
     ]
    }
   ],
   "source": [
    "from time import sleep\n",
    "from selenium.webdriver.chrome.service import Service\n",
    "from selenium import webdriver\n",
    "# this is tested on Firefox or you can use \"webdriver.Chrome()\" or \"webdriver.Edge()\"\n",
    "service = Service(executable_path=\"/chromedriver\")\n",
    "browser = webdriver.Chrome(service=service)\n",
    "\n",
    "browser.get('https://www.nyp.edu.sg/')\n",
    "sleep(5)\n",
    "browser.close()\n"
   ]
  },
  {
   "cell_type": "markdown",
   "metadata": {},
   "source": [
    "If you see the browser opens NYP website and closes it after 5 seconds, you have completed your installation !"
   ]
  }
 ],
 "metadata": {
  "kernelspec": {
   "display_name": "Python 3 (ipykernel)",
   "language": "python",
   "name": "python3"
  },
  "language_info": {
   "codemirror_mode": {
    "name": "ipython",
    "version": 3
   },
   "file_extension": ".py",
   "mimetype": "text/x-python",
   "name": "python",
   "nbconvert_exporter": "python",
   "pygments_lexer": "ipython3",
   "version": "3.10.9"
  }
 },
 "nbformat": 4,
 "nbformat_minor": 2
}
