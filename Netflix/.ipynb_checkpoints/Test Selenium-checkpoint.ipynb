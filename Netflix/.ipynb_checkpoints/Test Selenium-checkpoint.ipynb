{
 "cells": [
  {
   "cell_type": "markdown",
   "metadata": {},
   "source": [
    "### Install Selenium\n",
    "\n",
    "Execute the following command to install selenium in Jupyter Notebook or Anaconda Prompt:\n",
    "> !pip install selenium"
   ]
  },
  {
   "cell_type": "markdown",
   "metadata": {},
   "source": [
    "### Download WebDriver\n",
    "Download the zipped file of WebDriver here: https://www.selenium.dev/documentation/webdriver/getting_started/install_drivers/\n",
    "\n",
    "Choose the one based on the browser that you are using.\n",
    "\n",
    "Extract the downloaded file and copy the .exe file to the same directory as your Jupyter notebook file.\n",
    "\n",
    "After you have paste your .exe file to the same directory, test whether it works using the code below. Change code according to browser webdriver you are using. "
   ]
  },
  {
   "cell_type": "code",
   "execution_count": 2,
   "metadata": {},
   "outputs": [],
   "source": [
    "from time import sleep\n",
    "from selenium.webdriver.chrome.service import Service\n",
    "from selenium import webdriver\n",
    "# this is tested on Firefox or you can use \"webdriver.Chrome()\" or \"webdriver.Edge()\"\n",
    "service = Service(executable_path=\"/chromedriver\")\n",
    "browser = webdriver.Chrome(service=service)\n",
    "\n",
    "browser.get('https://www.nyp.edu.sg/')\n",
    "sleep(5)\n",
    "browser.close()\n"
   ]
  },
  {
   "cell_type": "markdown",
   "metadata": {},
   "source": [
    "If you see the browser opens NYP website and closes it after 5 seconds, you have completed your installation !"
   ]
  }
 ],
 "metadata": {
  "kernelspec": {
   "display_name": "Python 3 (ipykernel)",
   "language": "python",
   "name": "python3"
  },
  "language_info": {
   "codemirror_mode": {
    "name": "ipython",
    "version": 3
   },
   "file_extension": ".py",
   "mimetype": "text/x-python",
   "name": "python",
   "nbconvert_exporter": "python",
   "pygments_lexer": "ipython3",
   "version": "3.10.9"
  }
 },
 "nbformat": 4,
 "nbformat_minor": 2
}
